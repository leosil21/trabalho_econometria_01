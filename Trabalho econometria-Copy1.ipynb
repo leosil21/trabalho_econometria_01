{
 "cells": [
  {
   "cell_type": "markdown",
   "metadata": {},
   "source": [
    "Dicionario\n",
    "\n",
    "1. educ_pai/educ_mae\n",
    "Até que série seu pai/ mae, ou o homem responsável por você, estudou?\t\n",
    "    A\tNunca estudou.\n",
    "\tB\tNão completou a 4ª série/5º ano do Ensino Fundamental.\n",
    "\tC\tCompletou a 4ª série/5º ano, mas não completou a 8ª série/9º ano do Ensino Fundamental.\n",
    "\tD\tCompletou a 8ª série/9º ano do Ensino Fundamental, mas não completou o Ensino Médio.\n",
    "\tE\tCompletou o Ensino Médio, mas não completou a Faculdade.\n",
    "\tF\tCompletou a Faculdade, mas não completou a Pós-graduação.\n",
    "\tG\tCompletou a Pós-graduação.\n",
    "\tH\tNão sei.\n",
    "\n",
    "2. renda_fam\n",
    "Qual é a renda mensal de sua família? (Some a sua renda com a dos seus familiares.)\t\n",
    "    A\tNenhuma renda.\n",
    "\tB\tAté R$ 937,00.\n",
    "\tC\tDe R$ 937,01 até R$ 1.405,50.\n",
    "\tD\tDe R$ 1.405,51 até R$ 1.874,00.\n",
    "\tE\tDe R$ 1.874,01 até R$ 2.342,50.\n",
    "\tF\tDe R$ 2.342,51 até R$ 2.811,00.\n",
    "\tG\tDe R$ 2.811,01 até R$ 3.748,00.\n",
    "\tH\tDe R$ 3.748,01 até R$ 4.685,00.\n",
    "\tI\tDe R$ 4.685,01 até R$ 5.622,00.\n",
    "\tJ\tDe R$ 5.622,01 até R$ 6.559,00.\n",
    "\tK\tDe R$ 6.559,01 até R$ 7.496,00.\n",
    "\tL\tDe R$ 7.496,01 até R$ 8.433,00.\n",
    "\tM\tDe R$ 8.433,01 até R$ 9.370,00.\n",
    "\tN\tDe R$ 9.370,01 até R$ 11.244,00.\n",
    "\tO\tDe R$ 11.244,01 até R$ 14.055,00.\n",
    "\tP\tDe R$ 14.055,01 até R$ 18.740,00.\n",
    "\tQ\tMais de R$ 18.740,00.\n",
    "\n",
    "\n",
    "3. n_pessoas_fam\n",
    "Número de pessoas na familia"
   ]
  },
  {
   "cell_type": "code",
   "execution_count": 1,
   "metadata": {},
   "outputs": [],
   "source": [
    "import numpy as np\n",
    "import pandas as pd\n",
    "import random\n",
    "import warnings\n",
    "warnings.filterwarnings(\"ignore\")\n",
    "import matplotlib.pyplot as plt\n",
    "%matplotlib inline\n",
    "import seaborn as sea\n",
    "\n",
    "\n",
    "%matplotlib inline\n",
    "df = pd.read_stata('base_de_dados_ExerciocioI (1).dta')\n",
    "\n",
    "df_enem = pd.DataFrame(df['nota_enem'])\n",
    "enem_describe = df_enem.describe()\n",
    "\n"
   ]
  },
  {
   "cell_type": "markdown",
   "metadata": {},
   "source": [
    "1. Apresente uma tabela com as estatísticas descritivas (média e desvio-padrão)"
   ]
  },
  {
   "cell_type": "code",
   "execution_count": 2,
   "metadata": {},
   "outputs": [
    {
     "data": {
      "text/html": [
       "<div>\n",
       "<style scoped>\n",
       "    .dataframe tbody tr th:only-of-type {\n",
       "        vertical-align: middle;\n",
       "    }\n",
       "\n",
       "    .dataframe tbody tr th {\n",
       "        vertical-align: top;\n",
       "    }\n",
       "\n",
       "    .dataframe thead th {\n",
       "        text-align: right;\n",
       "    }\n",
       "</style>\n",
       "<table border=\"1\" class=\"dataframe\">\n",
       "  <thead>\n",
       "    <tr style=\"text-align: right;\">\n",
       "      <th></th>\n",
       "      <th>nota_enem</th>\n",
       "    </tr>\n",
       "  </thead>\n",
       "  <tbody>\n",
       "    <tr>\n",
       "      <th>count</th>\n",
       "      <td>100000.000000</td>\n",
       "    </tr>\n",
       "    <tr>\n",
       "      <th>mean</th>\n",
       "      <td>520.608032</td>\n",
       "    </tr>\n",
       "    <tr>\n",
       "      <th>std</th>\n",
       "      <td>79.858727</td>\n",
       "    </tr>\n",
       "    <tr>\n",
       "      <th>min</th>\n",
       "      <td>154.919998</td>\n",
       "    </tr>\n",
       "    <tr>\n",
       "      <th>25%</th>\n",
       "      <td>467.760010</td>\n",
       "    </tr>\n",
       "    <tr>\n",
       "      <th>50%</th>\n",
       "      <td>515.320007</td>\n",
       "    </tr>\n",
       "    <tr>\n",
       "      <th>75%</th>\n",
       "      <td>569.840027</td>\n",
       "    </tr>\n",
       "    <tr>\n",
       "      <th>max</th>\n",
       "      <td>818.140015</td>\n",
       "    </tr>\n",
       "  </tbody>\n",
       "</table>\n",
       "</div>"
      ],
      "text/plain": [
       "           nota_enem\n",
       "count  100000.000000\n",
       "mean      520.608032\n",
       "std        79.858727\n",
       "min       154.919998\n",
       "25%       467.760010\n",
       "50%       515.320007\n",
       "75%       569.840027\n",
       "max       818.140015"
      ]
     },
     "execution_count": 2,
     "metadata": {},
     "output_type": "execute_result"
    }
   ],
   "source": [
    "enem_describe\n"
   ]
  },
  {
   "cell_type": "markdown",
   "metadata": {},
   "source": [
    "2. Apresente gráficos de densidade comparando o desempenho no ENEM dos seguintes grupos:\n",
    "-- homens e mulheres, escolas publicas e privadas, pretos e brancos, pais educados e pais não educados1."
   ]
  },
  {
   "cell_type": "code",
   "execution_count": 3,
   "metadata": {},
   "outputs": [
    {
     "data": {
      "text/html": [
       "<div>\n",
       "<style scoped>\n",
       "    .dataframe tbody tr th:only-of-type {\n",
       "        vertical-align: middle;\n",
       "    }\n",
       "\n",
       "    .dataframe tbody tr th {\n",
       "        vertical-align: top;\n",
       "    }\n",
       "\n",
       "    .dataframe thead th {\n",
       "        text-align: right;\n",
       "    }\n",
       "</style>\n",
       "<table border=\"1\" class=\"dataframe\">\n",
       "  <thead>\n",
       "    <tr style=\"text-align: right;\">\n",
       "      <th></th>\n",
       "      <th>ano</th>\n",
       "      <th>co_municipio_residencia</th>\n",
       "      <th>co_uf_residencia</th>\n",
       "      <th>sg_uf_residencia</th>\n",
       "      <th>idade</th>\n",
       "      <th>n_pessoas_fam</th>\n",
       "      <th>feminino</th>\n",
       "      <th>preto</th>\n",
       "      <th>branco</th>\n",
       "      <th>publico</th>\n",
       "      <th>privada</th>\n",
       "      <th>nota_enem</th>\n",
       "      <th>educ_pai</th>\n",
       "      <th>educ_mae</th>\n",
       "      <th>renda_fam</th>\n",
       "    </tr>\n",
       "  </thead>\n",
       "  <tbody>\n",
       "    <tr>\n",
       "      <th>0</th>\n",
       "      <td>2017</td>\n",
       "      <td>3105905</td>\n",
       "      <td>31</td>\n",
       "      <td>MG</td>\n",
       "      <td>50.0</td>\n",
       "      <td>5</td>\n",
       "      <td>1</td>\n",
       "      <td>0</td>\n",
       "      <td>0</td>\n",
       "      <td>NaN</td>\n",
       "      <td>NaN</td>\n",
       "      <td>542.419983</td>\n",
       "      <td>C</td>\n",
       "      <td>B</td>\n",
       "      <td>B</td>\n",
       "    </tr>\n",
       "    <tr>\n",
       "      <th>1</th>\n",
       "      <td>2017</td>\n",
       "      <td>4109708</td>\n",
       "      <td>41</td>\n",
       "      <td>PR</td>\n",
       "      <td>17.0</td>\n",
       "      <td>4</td>\n",
       "      <td>1</td>\n",
       "      <td>0</td>\n",
       "      <td>1</td>\n",
       "      <td>NaN</td>\n",
       "      <td>NaN</td>\n",
       "      <td>540.119995</td>\n",
       "      <td>F</td>\n",
       "      <td>D</td>\n",
       "      <td>E</td>\n",
       "    </tr>\n",
       "    <tr>\n",
       "      <th>2</th>\n",
       "      <td>2017</td>\n",
       "      <td>2609600</td>\n",
       "      <td>26</td>\n",
       "      <td>PE</td>\n",
       "      <td>17.0</td>\n",
       "      <td>5</td>\n",
       "      <td>1</td>\n",
       "      <td>1</td>\n",
       "      <td>0</td>\n",
       "      <td>NaN</td>\n",
       "      <td>NaN</td>\n",
       "      <td>501.140015</td>\n",
       "      <td>C</td>\n",
       "      <td>F</td>\n",
       "      <td>C</td>\n",
       "    </tr>\n",
       "    <tr>\n",
       "      <th>3</th>\n",
       "      <td>2017</td>\n",
       "      <td>2918407</td>\n",
       "      <td>29</td>\n",
       "      <td>BA</td>\n",
       "      <td>16.0</td>\n",
       "      <td>2</td>\n",
       "      <td>1</td>\n",
       "      <td>0</td>\n",
       "      <td>0</td>\n",
       "      <td>NaN</td>\n",
       "      <td>NaN</td>\n",
       "      <td>514.940002</td>\n",
       "      <td>E</td>\n",
       "      <td>E</td>\n",
       "      <td>B</td>\n",
       "    </tr>\n",
       "    <tr>\n",
       "      <th>4</th>\n",
       "      <td>2017</td>\n",
       "      <td>3170107</td>\n",
       "      <td>31</td>\n",
       "      <td>MG</td>\n",
       "      <td>17.0</td>\n",
       "      <td>5</td>\n",
       "      <td>1</td>\n",
       "      <td>0</td>\n",
       "      <td>0</td>\n",
       "      <td>NaN</td>\n",
       "      <td>1.0</td>\n",
       "      <td>511.299988</td>\n",
       "      <td>E</td>\n",
       "      <td>D</td>\n",
       "      <td>C</td>\n",
       "    </tr>\n",
       "  </tbody>\n",
       "</table>\n",
       "</div>"
      ],
      "text/plain": [
       "    ano  co_municipio_residencia  co_uf_residencia sg_uf_residencia  idade  \\\n",
       "0  2017                  3105905                31               MG   50.0   \n",
       "1  2017                  4109708                41               PR   17.0   \n",
       "2  2017                  2609600                26               PE   17.0   \n",
       "3  2017                  2918407                29               BA   16.0   \n",
       "4  2017                  3170107                31               MG   17.0   \n",
       "\n",
       "   n_pessoas_fam  feminino  preto  branco  publico  privada   nota_enem  \\\n",
       "0              5         1      0       0      NaN      NaN  542.419983   \n",
       "1              4         1      0       1      NaN      NaN  540.119995   \n",
       "2              5         1      1       0      NaN      NaN  501.140015   \n",
       "3              2         1      0       0      NaN      NaN  514.940002   \n",
       "4              5         1      0       0      NaN      1.0  511.299988   \n",
       "\n",
       "  educ_pai educ_mae renda_fam  \n",
       "0        C        B         B  \n",
       "1        F        D         E  \n",
       "2        C        F         C  \n",
       "3        E        E         B  \n",
       "4        E        D         C  "
      ]
     },
     "execution_count": 3,
     "metadata": {},
     "output_type": "execute_result"
    }
   ],
   "source": [
    "df.head()"
   ]
  },
  {
   "cell_type": "code",
   "execution_count": 4,
   "metadata": {},
   "outputs": [],
   "source": [
    "df_densidade = pd.DataFrame()\n",
    "df_densidade['nota'] = df['nota_enem']\n",
    "\n",
    "# homem / mulher\n",
    "df_densidade['homem'] = (df[df['feminino'] == 0])['nota_enem']\n",
    "df_densidade['mulher']= (df[df['feminino'] != 0])['nota_enem']\n",
    "\n",
    "# publico / privada\n",
    "df_densidade['publico']= (df[df['publico'] == 1])['nota_enem']\n",
    "df_densidade['privada']= (df[df['privada'] == 1])['nota_enem']\n",
    "\n",
    "# pretos / brancos\n",
    "df_densidade['pretos']= (df[df['preto'] == 1])['nota_enem']\n",
    "df_densidade['brancos']= (df[df['branco'] == 1])['nota_enem']\n",
    "\n",
    "# publico / privada\n",
    "v_educ = ['D','E','F','G'] ## >= Ensino Fundamental 2\n",
    "v_n_educ = ['A','B','C' ] ## < Ensino Fundamental 2\n",
    "# se ao menos um dos dois pais forem educados (D,E,F e G), então o aluno é considerado com pais educados\n",
    "df_densidade['pais_educ']= df.loc[df.educ_pai.isin(v_educ) | df.educ_mae.isin(v_educ)]['nota_enem']\n",
    "df_densidade['pais_n_educ']= df.loc[df.educ_pai.isin(v_n_educ) & df.educ_mae.isin(v_n_educ)]['nota_enem']\n",
    "\n",
    "#df_densidade['pais_educ_2']= df.loc[df.educ_pai.isin(v_educ) & df.educ_mae.isin(v_educ)]['nota_enem']\n",
    "#df_densidade['pais_n_educ_2']= df.loc[df.educ_pai.isin(v_n_educ) | df.educ_mae.isin(v_n_educ)]['nota_enem']"
   ]
  },
  {
   "cell_type": "code",
   "execution_count": 5,
   "metadata": {},
   "outputs": [
    {
     "data": {
      "image/png": "[encoded data removed]",
      "text/plain": [
       "<Figure size 432x288 with 1 Axes>"
      ]
     },
     "metadata": {},
     "output_type": "display_data"
    }
   ],
   "source": [
    "sea.kdeplot(df_densidade.homem.dropna());\n",
    "sea.kdeplot(df_densidade.mulher.dropna());"
   ]
  },
  {
   "cell_type": "code",
   "execution_count": 6,
   "metadata": {},
   "outputs": [
    {
     "data": {
      "image/png": "[encoded data removed]",
      "text/plain": [
       "<Figure size 432x288 with 1 Axes>"
      ]
     },
     "metadata": {},
     "output_type": "display_data"
    }
   ],
   "source": [
    "# dados da rede publica não representativa [apenas 133 de 100k]\n",
    "\n",
    "sea.kdeplot(df_densidade.publico.dropna());\n",
    "sea.kdeplot(df_densidade.privada.dropna());"
   ]
  },
  {
   "cell_type": "code",
   "execution_count": 7,
   "metadata": {},
   "outputs": [
    {
     "data": {
      "image/png": "[encoded data removed]",
      "text/plain": [
       "<Figure size 432x288 with 1 Axes>"
      ]
     },
     "metadata": {},
     "output_type": "display_data"
    }
   ],
   "source": [
    "sea.kdeplot(df_densidade.pretos.dropna());\n",
    "sea.kdeplot(df_densidade.brancos.dropna());"
   ]
  },
  {
   "cell_type": "code",
   "execution_count": 8,
   "metadata": {},
   "outputs": [
    {
     "data": {
      "image/png": "[encoded data removed]",
      "text/plain": [
       "<Figure size 432x288 with 1 Axes>"
      ]
     },
     "metadata": {},
     "output_type": "display_data"
    }
   ],
   "source": [
    "sea.kdeplot(df_densidade.pais_educ.dropna());\n",
    "sea.kdeplot(df_densidade.pais_n_educ.dropna());"
   ]
  },
  {
   "cell_type": "code",
   "execution_count": 9,
   "metadata": {},
   "outputs": [
    {
     "data": {
      "text/plain": [
       "2293"
      ]
     },
     "execution_count": 9,
     "metadata": {},
     "output_type": "execute_result"
    }
   ],
   "source": [
    "df_densidade.privada.dropna().count()"
   ]
  },
  {
   "cell_type": "code",
   "execution_count": 10,
   "metadata": {},
   "outputs": [
    {
     "data": {
      "text/plain": [
       "133"
      ]
     },
     "execution_count": 10,
     "metadata": {},
     "output_type": "execute_result"
    }
   ],
   "source": [
    "df_densidade.publico.dropna().count()"
   ]
  },
  {
   "cell_type": "code",
   "execution_count": 11,
   "metadata": {},
   "outputs": [
    {
     "data": {
      "text/plain": [
       "nota           100000\n",
       "homem           41900\n",
       "mulher          58100\n",
       "publico           133\n",
       "privada          2293\n",
       "pretos          12965\n",
       "brancos         35957\n",
       "pais_educ       70692\n",
       "pais_n_educ     29308\n",
       "dtype: int64"
      ]
     },
     "execution_count": 11,
     "metadata": {},
     "output_type": "execute_result"
    }
   ],
   "source": [
    "df_densidade.count()"
   ]
  },
  {
   "cell_type": "markdown",
   "metadata": {},
   "source": [
    "3. Monte uma tabela contendo as estimativas de β e α. Interpretem os resultados (magnitude e significância). Testem diferentes formas de medir o ranking educacional dos pais.\n",
    "\n",
    "rij =α+βRPi+eij"
   ]
  },
  {
   "cell_type": "code",
   "execution_count": 12,
   "metadata": {},
   "outputs": [
    {
     "data": {
      "text/plain": [
       "0        542.419983\n",
       "1        540.119995\n",
       "2        501.140015\n",
       "3        514.940002\n",
       "4        511.299988\n",
       "5        339.479980\n",
       "6        419.600006\n",
       "7        479.919983\n",
       "8        523.599976\n",
       "9        676.299988\n",
       "10       537.580017\n",
       "11       754.320007\n",
       "12       480.760010\n",
       "13       621.679993\n",
       "14       478.820007\n",
       "15       518.460022\n",
       "16       467.420013\n",
       "17       587.739990\n",
       "18       486.200012\n",
       "19       510.140015\n",
       "20       505.420013\n",
       "21       557.580017\n",
       "22       428.540009\n",
       "23       497.040009\n",
       "24       579.239990\n",
       "25       465.100006\n",
       "26       645.659973\n",
       "27       481.100006\n",
       "28       518.520020\n",
       "29       427.320007\n",
       "            ...    \n",
       "99970    667.080017\n",
       "99971    450.440002\n",
       "99972    515.599976\n",
       "99973    566.080017\n",
       "99974    568.400024\n",
       "99975    483.559998\n",
       "99976    453.640015\n",
       "99977    527.840027\n",
       "99978    542.700012\n",
       "99979    614.500000\n",
       "99980    507.360016\n",
       "99981    418.080017\n",
       "99982    524.539978\n",
       "99983    425.000000\n",
       "99984    452.619995\n",
       "99985    454.679993\n",
       "99986    469.260010\n",
       "99987    682.900024\n",
       "99988    450.700012\n",
       "99989    494.579987\n",
       "99990    614.179993\n",
       "99991    550.479980\n",
       "99992    454.739990\n",
       "99993    467.859985\n",
       "99994    530.000000\n",
       "99995    534.059998\n",
       "99996    529.580017\n",
       "99997    472.920013\n",
       "99998    501.160004\n",
       "99999    479.679993\n",
       "Name: nota, Length: 100000, dtype: float32"
      ]
     },
     "execution_count": 12,
     "metadata": {},
     "output_type": "execute_result"
    }
   ],
   "source": [
    "df_densidade['nota']"
   ]
  },
  {
   "cell_type": "code",
   "execution_count": 13,
   "metadata": {},
   "outputs": [
    {
     "data": {
      "image/png": "[encoded data removed]",
      "text/plain": [
       "<Figure size 432x288 with 1 Axes>"
      ]
     },
     "metadata": {},
     "output_type": "display_data"
    }
   ],
   "source": [
    "# synthetic classification dataset\n",
    "from numpy import where\n",
    "from sklearn.datasets import make_classification\n",
    "from matplotlib import pyplot\n",
    "# define dataset\n",
    "X, y = make_classification(n_samples=1000, n_features=2, n_informative=2, n_redundant=0, n_clusters_per_class=1, random_state=4)\n",
    "# create scatter plot for samples from each class\n",
    "for class_value in range(2):\n",
    "\t# get row indexes for samples with this class\n",
    "\trow_ix = where(y == class_value)\n",
    "\t# create scatter of these samples\n",
    "\tpyplot.scatter(X[row_ix, 0], X[row_ix, 1])\n",
    "# show the plot\n",
    "pyplot.show()"
   ]
  },
  {
   "cell_type": "code",
   "execution_count": null,
   "metadata": {},
   "outputs": [],
   "source": [
    "# affinity propagation clustering\n",
    "from numpy import unique\n",
    "from numpy import where\n",
    "from sklearn.datasets import make_classification\n",
    "from sklearn.cluster import AffinityPropagation\n",
    "from matplotlib import pyplot\n",
    "# define dataset\n",
    "#X, _ = make_classification(n_samples=1000, n_features=2, n_informative=2, n_redundant=0, n_clusters_per_class=1, random_state=4)\n",
    "# define the model\n",
    "model = AffinityPropagation(damping=0.9)\n",
    "# fit the model\n",
    "X = np.array(df.nota_enem[1:1000]).reshape(-1,1)\n",
    "model.fit(X)\n",
    "# assign a cluster to each example\n",
    "yhat = model.predict(X)\n",
    "# retrieve unique clusters\n",
    "clusters = unique(yhat)\n",
    "# create scatter plot for samples from each cluster\n",
    "for cluster in clusters:\n",
    "\t# get row indexes for samples with this cluster\n",
    "\trow_ix = where(yhat == cluster)\n",
    "\t# create scatter of these samples\n",
    "\tpyplot.scatter(X[row_ix, 0], X[row_ix, 1])\n",
    "# show the plot\n",
    "pyplot.show()"
   ]
  },
  {
   "cell_type": "code",
   "execution_count": 27,
   "metadata": {},
   "outputs": [
    {
     "data": {
      "text/plain": [
       "array([542.42, 540.12, 501.14, ..., 472.92, 501.16, 479.68], dtype=float32)"
      ]
     },
     "execution_count": 27,
     "metadata": {},
     "output_type": "execute_result"
    }
   ],
   "source": [
    "#np.array(df.nota_enem)"
   ]
  },
  {
   "cell_type": "code",
   "execution_count": 17,
   "metadata": {},
   "outputs": [
    {
     "data": {
      "text/plain": [
       "<function numpy.core.multiarray.where>"
      ]
     },
     "execution_count": 17,
     "metadata": {},
     "output_type": "execute_result"
    }
   ],
   "source": [
    "where"
   ]
  },
  {
   "cell_type": "code",
   "execution_count": null,
   "metadata": {},
   "outputs": [],
   "source": []
  }
 ],
 "metadata": {
  "kernelspec": {
   "display_name": "Python 3",
   "language": "python",
   "name": "python3"
  },
  "language_info": {
   "codemirror_mode": {
    "name": "ipython",
    "version": 3
   },
   "file_extension": ".py",
   "mimetype": "text/x-python",
   "name": "python",
   "nbconvert_exporter": "python",
   "pygments_lexer": "ipython3",
   "version": "3.6.7"
  }
 },
 "nbformat": 4,
 "nbformat_minor": 2
}
